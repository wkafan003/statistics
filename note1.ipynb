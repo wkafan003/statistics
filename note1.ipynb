{
 "cells": [
  {
   "cell_type": "code",
   "execution_count": 1,
   "metadata": {
    "collapsed": true,
    "pycharm": {
     "name": "#%%\n"
    }
   },
   "outputs": [],
   "source": [
    "from typing import Any, Optional\n",
    "\n",
    "import numpy as np\n",
    "import scipy as sp\n",
    "import sympy as sm\n",
    "import pandas as pd\n",
    "\n",
    "import bottleneck as bn\n",
    "import numexpr as ne\n",
    "import numba as nb\n",
    "\n",
    "import matplotlib as mpl\n",
    "import matplotlib.pyplot as plt\n",
    "import seaborn as sns\n",
    "from statsmodels.tools import add_constant\n",
    "\n",
    "sns.set()"
   ]
  },
  {
   "cell_type": "code",
   "execution_count": 2,
   "outputs": [],
   "source": [
    "import statsmodels as sms\n",
    "from sklearn.metrics import roc_auc_score, accuracy_score\n",
    "from sklearn.linear_model import LogisticRegression\n",
    "from sklearn.datasets import make_classification\n",
    "from sklearn.model_selection import train_test_split"
   ],
   "metadata": {
    "collapsed": false,
    "pycharm": {
     "name": "#%%\n"
    }
   }
  },
  {
   "cell_type": "code",
   "execution_count": 3,
   "outputs": [
    {
     "data": {
      "text/plain": "             0         1         2         3\n0     0.961191  0.097541 -0.138425  0.057640\n1     2.351658 -0.102018  0.102338  2.886535\n2     2.707095 -0.989234 -2.414672  1.074636\n3     0.300021 -1.392938  1.836359  1.425227\n4     0.196385 -0.006582  2.100452 -0.451834\n...        ...       ...       ...       ...\n9995  1.447341  0.694426  0.022308  0.207010\n9996  3.571888 -1.047510 -1.785897  0.065202\n9997  1.835292 -1.083098 -0.179020  0.922715\n9998 -2.216549  0.734841  3.438741  2.103342\n9999  3.033561 -0.570129 -1.338758  0.887744\n\n[10000 rows x 4 columns]",
      "text/html": "<div>\n<style scoped>\n    .dataframe tbody tr th:only-of-type {\n        vertical-align: middle;\n    }\n\n    .dataframe tbody tr th {\n        vertical-align: top;\n    }\n\n    .dataframe thead th {\n        text-align: right;\n    }\n</style>\n<table border=\"1\" class=\"dataframe\">\n  <thead>\n    <tr style=\"text-align: right;\">\n      <th></th>\n      <th>0</th>\n      <th>1</th>\n      <th>2</th>\n      <th>3</th>\n    </tr>\n  </thead>\n  <tbody>\n    <tr>\n      <th>0</th>\n      <td>0.961191</td>\n      <td>0.097541</td>\n      <td>-0.138425</td>\n      <td>0.057640</td>\n    </tr>\n    <tr>\n      <th>1</th>\n      <td>2.351658</td>\n      <td>-0.102018</td>\n      <td>0.102338</td>\n      <td>2.886535</td>\n    </tr>\n    <tr>\n      <th>2</th>\n      <td>2.707095</td>\n      <td>-0.989234</td>\n      <td>-2.414672</td>\n      <td>1.074636</td>\n    </tr>\n    <tr>\n      <th>3</th>\n      <td>0.300021</td>\n      <td>-1.392938</td>\n      <td>1.836359</td>\n      <td>1.425227</td>\n    </tr>\n    <tr>\n      <th>4</th>\n      <td>0.196385</td>\n      <td>-0.006582</td>\n      <td>2.100452</td>\n      <td>-0.451834</td>\n    </tr>\n    <tr>\n      <th>...</th>\n      <td>...</td>\n      <td>...</td>\n      <td>...</td>\n      <td>...</td>\n    </tr>\n    <tr>\n      <th>9995</th>\n      <td>1.447341</td>\n      <td>0.694426</td>\n      <td>0.022308</td>\n      <td>0.207010</td>\n    </tr>\n    <tr>\n      <th>9996</th>\n      <td>3.571888</td>\n      <td>-1.047510</td>\n      <td>-1.785897</td>\n      <td>0.065202</td>\n    </tr>\n    <tr>\n      <th>9997</th>\n      <td>1.835292</td>\n      <td>-1.083098</td>\n      <td>-0.179020</td>\n      <td>0.922715</td>\n    </tr>\n    <tr>\n      <th>9998</th>\n      <td>-2.216549</td>\n      <td>0.734841</td>\n      <td>3.438741</td>\n      <td>2.103342</td>\n    </tr>\n    <tr>\n      <th>9999</th>\n      <td>3.033561</td>\n      <td>-0.570129</td>\n      <td>-1.338758</td>\n      <td>0.887744</td>\n    </tr>\n  </tbody>\n</table>\n<p>10000 rows × 4 columns</p>\n</div>"
     },
     "execution_count": 3,
     "metadata": {},
     "output_type": "execute_result"
    }
   ],
   "source": [
    "x, y = make_classification(10000, n_features=4, n_classes=2, n_informative=4,\n",
    "                           n_repeated=0, n_redundant=0, flip_y=0.2, random_state=1)\n",
    "x = pd.DataFrame(x)\n",
    "x"
   ],
   "metadata": {
    "collapsed": false,
    "pycharm": {
     "name": "#%%\n"
    }
   }
  },
  {
   "cell_type": "code",
   "execution_count": 4,
   "outputs": [],
   "source": [
    "#!pip install dtale\n"
   ],
   "metadata": {
    "collapsed": false,
    "pycharm": {
     "name": "#%%\n"
    }
   }
  },
  {
   "cell_type": "code",
   "execution_count": 5,
   "outputs": [],
   "source": [
    "x1, x2, y1, y2 = train_test_split(x, y, test_size=0.2, random_state=0)"
   ],
   "metadata": {
    "collapsed": false,
    "pycharm": {
     "name": "#%%\n"
    }
   }
  },
  {
   "cell_type": "code",
   "execution_count": 6,
   "outputs": [],
   "source": [
    "model = LogisticRegression(class_weight=[1, 50])\n",
    "model.fit(x1, y1)\n",
    "y_model = model.predict_proba(x2)[:, 1]"
   ],
   "metadata": {
    "collapsed": false,
    "pycharm": {
     "name": "#%%\n"
    }
   }
  },
  {
   "cell_type": "code",
   "execution_count": 7,
   "outputs": [
    {
     "data": {
      "text/plain": "0.7065799586876111"
     },
     "execution_count": 7,
     "metadata": {},
     "output_type": "execute_result"
    }
   ],
   "source": [
    "roc_auc_score(y2, y_model) * 2 - 1"
   ],
   "metadata": {
    "collapsed": false,
    "pycharm": {
     "name": "#%%\n"
    }
   }
  },
  {
   "cell_type": "code",
   "execution_count": 8,
   "outputs": [
    {
     "data": {
      "text/plain": "      y_predict  y_true\n0      0.170240       1\n1      0.207980       0\n2      0.946901       0\n3      0.946272       1\n4      0.261681       0\n...         ...     ...\n1995   0.917215       1\n1996   0.842191       1\n1997   0.971491       1\n1998   0.256967       1\n1999   0.368189       0\n\n[2000 rows x 2 columns]",
      "text/html": "<div>\n<style scoped>\n    .dataframe tbody tr th:only-of-type {\n        vertical-align: middle;\n    }\n\n    .dataframe tbody tr th {\n        vertical-align: top;\n    }\n\n    .dataframe thead th {\n        text-align: right;\n    }\n</style>\n<table border=\"1\" class=\"dataframe\">\n  <thead>\n    <tr style=\"text-align: right;\">\n      <th></th>\n      <th>y_predict</th>\n      <th>y_true</th>\n    </tr>\n  </thead>\n  <tbody>\n    <tr>\n      <th>0</th>\n      <td>0.170240</td>\n      <td>1</td>\n    </tr>\n    <tr>\n      <th>1</th>\n      <td>0.207980</td>\n      <td>0</td>\n    </tr>\n    <tr>\n      <th>2</th>\n      <td>0.946901</td>\n      <td>0</td>\n    </tr>\n    <tr>\n      <th>3</th>\n      <td>0.946272</td>\n      <td>1</td>\n    </tr>\n    <tr>\n      <th>4</th>\n      <td>0.261681</td>\n      <td>0</td>\n    </tr>\n    <tr>\n      <th>...</th>\n      <td>...</td>\n      <td>...</td>\n    </tr>\n    <tr>\n      <th>1995</th>\n      <td>0.917215</td>\n      <td>1</td>\n    </tr>\n    <tr>\n      <th>1996</th>\n      <td>0.842191</td>\n      <td>1</td>\n    </tr>\n    <tr>\n      <th>1997</th>\n      <td>0.971491</td>\n      <td>1</td>\n    </tr>\n    <tr>\n      <th>1998</th>\n      <td>0.256967</td>\n      <td>1</td>\n    </tr>\n    <tr>\n      <th>1999</th>\n      <td>0.368189</td>\n      <td>0</td>\n    </tr>\n  </tbody>\n</table>\n<p>2000 rows × 2 columns</p>\n</div>"
     },
     "execution_count": 8,
     "metadata": {},
     "output_type": "execute_result"
    }
   ],
   "source": [
    "df = pd.DataFrame({'y_predict': y_model, 'y_true': y2})\n",
    "df"
   ],
   "metadata": {
    "collapsed": false,
    "pycharm": {
     "name": "#%%\n"
    }
   }
  },
  {
   "cell_type": "code",
   "execution_count": 9,
   "outputs": [
    {
     "data": {
      "text/plain": "           y_predict  y_true\n0     (0.124, 0.187]       1\n1     (0.187, 0.258]       0\n2     (0.926, 0.998]       0\n3     (0.926, 0.998]       1\n4      (0.258, 0.34]       0\n...              ...     ...\n1995  (0.849, 0.926]       1\n1996  (0.727, 0.849]       1\n1997  (0.926, 0.998]       1\n1998  (0.187, 0.258]       1\n1999   (0.34, 0.443]       0\n\n[2000 rows x 2 columns]",
      "text/html": "<div>\n<style scoped>\n    .dataframe tbody tr th:only-of-type {\n        vertical-align: middle;\n    }\n\n    .dataframe tbody tr th {\n        vertical-align: top;\n    }\n\n    .dataframe thead th {\n        text-align: right;\n    }\n</style>\n<table border=\"1\" class=\"dataframe\">\n  <thead>\n    <tr style=\"text-align: right;\">\n      <th></th>\n      <th>y_predict</th>\n      <th>y_true</th>\n    </tr>\n  </thead>\n  <tbody>\n    <tr>\n      <th>0</th>\n      <td>(0.124, 0.187]</td>\n      <td>1</td>\n    </tr>\n    <tr>\n      <th>1</th>\n      <td>(0.187, 0.258]</td>\n      <td>0</td>\n    </tr>\n    <tr>\n      <th>2</th>\n      <td>(0.926, 0.998]</td>\n      <td>0</td>\n    </tr>\n    <tr>\n      <th>3</th>\n      <td>(0.926, 0.998]</td>\n      <td>1</td>\n    </tr>\n    <tr>\n      <th>4</th>\n      <td>(0.258, 0.34]</td>\n      <td>0</td>\n    </tr>\n    <tr>\n      <th>...</th>\n      <td>...</td>\n      <td>...</td>\n    </tr>\n    <tr>\n      <th>1995</th>\n      <td>(0.849, 0.926]</td>\n      <td>1</td>\n    </tr>\n    <tr>\n      <th>1996</th>\n      <td>(0.727, 0.849]</td>\n      <td>1</td>\n    </tr>\n    <tr>\n      <th>1997</th>\n      <td>(0.926, 0.998]</td>\n      <td>1</td>\n    </tr>\n    <tr>\n      <th>1998</th>\n      <td>(0.187, 0.258]</td>\n      <td>1</td>\n    </tr>\n    <tr>\n      <th>1999</th>\n      <td>(0.34, 0.443]</td>\n      <td>0</td>\n    </tr>\n  </tbody>\n</table>\n<p>2000 rows × 2 columns</p>\n</div>"
     },
     "execution_count": 9,
     "metadata": {},
     "output_type": "execute_result"
    }
   ],
   "source": [
    "df['y_predict'] = pd.qcut(df['y_predict'], 10, duplicates='drop')\n",
    "df"
   ],
   "metadata": {
    "collapsed": false,
    "pycharm": {
     "name": "#%%\n"
    }
   }
  },
  {
   "cell_type": "code",
   "execution_count": 10,
   "outputs": [
    {
     "data": {
      "text/plain": "                                mean  count\ny_predict                                  \n(0.013600000000000001, 0.124]  0.125    200\n(0.124, 0.187]                 0.155    200\n(0.187, 0.258]                 0.175    200\n(0.258, 0.34]                  0.245    200\n(0.34, 0.443]                  0.410    200\n(0.443, 0.588]                 0.560    200\n(0.588, 0.727]                 0.765    200\n(0.727, 0.849]                 0.900    200\n(0.849, 0.926]                 0.915    200\n(0.926, 0.998]                 0.890    200",
      "text/html": "<div>\n<style scoped>\n    .dataframe tbody tr th:only-of-type {\n        vertical-align: middle;\n    }\n\n    .dataframe tbody tr th {\n        vertical-align: top;\n    }\n\n    .dataframe thead th {\n        text-align: right;\n    }\n</style>\n<table border=\"1\" class=\"dataframe\">\n  <thead>\n    <tr style=\"text-align: right;\">\n      <th></th>\n      <th>mean</th>\n      <th>count</th>\n    </tr>\n    <tr>\n      <th>y_predict</th>\n      <th></th>\n      <th></th>\n    </tr>\n  </thead>\n  <tbody>\n    <tr>\n      <th>(0.013600000000000001, 0.124]</th>\n      <td>0.125</td>\n      <td>200</td>\n    </tr>\n    <tr>\n      <th>(0.124, 0.187]</th>\n      <td>0.155</td>\n      <td>200</td>\n    </tr>\n    <tr>\n      <th>(0.187, 0.258]</th>\n      <td>0.175</td>\n      <td>200</td>\n    </tr>\n    <tr>\n      <th>(0.258, 0.34]</th>\n      <td>0.245</td>\n      <td>200</td>\n    </tr>\n    <tr>\n      <th>(0.34, 0.443]</th>\n      <td>0.410</td>\n      <td>200</td>\n    </tr>\n    <tr>\n      <th>(0.443, 0.588]</th>\n      <td>0.560</td>\n      <td>200</td>\n    </tr>\n    <tr>\n      <th>(0.588, 0.727]</th>\n      <td>0.765</td>\n      <td>200</td>\n    </tr>\n    <tr>\n      <th>(0.727, 0.849]</th>\n      <td>0.900</td>\n      <td>200</td>\n    </tr>\n    <tr>\n      <th>(0.849, 0.926]</th>\n      <td>0.915</td>\n      <td>200</td>\n    </tr>\n    <tr>\n      <th>(0.926, 0.998]</th>\n      <td>0.890</td>\n      <td>200</td>\n    </tr>\n  </tbody>\n</table>\n</div>"
     },
     "execution_count": 10,
     "metadata": {},
     "output_type": "execute_result"
    }
   ],
   "source": [
    "df.groupby('y_predict')['y_true'].agg([np.mean, 'count'])\n"
   ],
   "metadata": {
    "collapsed": false,
    "pycharm": {
     "name": "#%%\n"
    }
   }
  },
  {
   "cell_type": "code",
   "execution_count": 11,
   "outputs": [],
   "source": [
    "from statsmodels.discrete.discrete_model import Logit"
   ],
   "metadata": {
    "collapsed": false,
    "pycharm": {
     "name": "#%%\n"
    }
   }
  },
  {
   "cell_type": "code",
   "execution_count": 12,
   "outputs": [
    {
     "name": "stdout",
     "output_type": "stream",
     "text": [
      "Optimization terminated successfully.\n",
      "         Current function value: 0.494394\n",
      "         Iterations 6\n",
      "0.7065599429953084\n"
     ]
    },
    {
     "data": {
      "text/plain": "<class 'statsmodels.iolib.summary2.Summary'>\n\"\"\"\n                         Results: Logit\n================================================================\nModel:              Logit            Pseudo R-squared: 0.287    \nDependent Variable: y                AIC:              7920.3103\nDate:               2021-06-14 22:07 BIC:              7955.2463\nNo. Observations:   8000             Log-Likelihood:   -3955.2  \nDf Model:           4                LL-Null:          -5544.8  \nDf Residuals:       7995             LLR p-value:      0.0000   \nConverged:          1.0000           Scale:            1.0000   \nNo. Iterations:     6.0000                                      \n------------------------------------------------------------------\n         Coef.    Std.Err.      z       P>|z|     [0.025    0.975]\n------------------------------------------------------------------\nconst    1.3127     0.0431    30.4719   0.0000    1.2283    1.3972\n0       -1.0436     0.0307   -33.9682   0.0000   -1.1038   -0.9834\n1        0.3049     0.0255    11.9757   0.0000    0.2550    0.3548\n2       -1.1028     0.0286   -38.5973   0.0000   -1.1588   -1.0468\n3       -0.3372     0.0235   -14.3222   0.0000   -0.3834   -0.2911\n================================================================\n\n\"\"\"",
      "text/html": "<table class=\"simpletable\">\n<tr>\n        <td>Model:</td>              <td>Logit</td>      <td>Pseudo R-squared:</td>   <td>0.287</td>  \n</tr>\n<tr>\n  <td>Dependent Variable:</td>         <td>y</td>              <td>AIC:</td>        <td>7920.3103</td>\n</tr>\n<tr>\n         <td>Date:</td>        <td>2021-06-14 22:07</td>       <td>BIC:</td>        <td>7955.2463</td>\n</tr>\n<tr>\n   <td>No. Observations:</td>        <td>8000</td>        <td>Log-Likelihood:</td>   <td>-3955.2</td> \n</tr>\n<tr>\n       <td>Df Model:</td>              <td>4</td>            <td>LL-Null:</td>       <td>-5544.8</td> \n</tr>\n<tr>\n     <td>Df Residuals:</td>          <td>7995</td>         <td>LLR p-value:</td>     <td>0.0000</td>  \n</tr>\n<tr>\n      <td>Converged:</td>           <td>1.0000</td>           <td>Scale:</td>        <td>1.0000</td>  \n</tr>\n<tr>\n    <td>No. Iterations:</td>        <td>6.0000</td>              <td></td>              <td></td>     \n</tr>\n</table>\n<table class=\"simpletable\">\n<tr>\n    <td></td>     <th>Coef.</th>  <th>Std.Err.</th>     <th>z</th>     <th>P>|z|</th> <th>[0.025</th>  <th>0.975]</th> \n</tr>\n<tr>\n  <th>const</th> <td>1.3127</td>   <td>0.0431</td>   <td>30.4719</td> <td>0.0000</td> <td>1.2283</td>  <td>1.3972</td> \n</tr>\n<tr>\n  <th>0</th>     <td>-1.0436</td>  <td>0.0307</td>  <td>-33.9682</td> <td>0.0000</td> <td>-1.1038</td> <td>-0.9834</td>\n</tr>\n<tr>\n  <th>1</th>     <td>0.3049</td>   <td>0.0255</td>   <td>11.9757</td> <td>0.0000</td> <td>0.2550</td>  <td>0.3548</td> \n</tr>\n<tr>\n  <th>2</th>     <td>-1.1028</td>  <td>0.0286</td>  <td>-38.5973</td> <td>0.0000</td> <td>-1.1588</td> <td>-1.0468</td>\n</tr>\n<tr>\n  <th>3</th>     <td>-0.3372</td>  <td>0.0235</td>  <td>-14.3222</td> <td>0.0000</td> <td>-0.3834</td> <td>-0.2911</td>\n</tr>\n</table>"
     },
     "execution_count": 12,
     "metadata": {},
     "output_type": "execute_result"
    }
   ],
   "source": [
    "model2 = Logit(y1, add_constant(x1)).fit()\n",
    "print(roc_auc_score(y2, model2.predict(add_constant(x2))) * 2 - 1)\n",
    "model2.summary2()"
   ],
   "metadata": {
    "collapsed": false,
    "pycharm": {
     "name": "#%%\n"
    }
   }
  },
  {
   "cell_type": "code",
   "execution_count": 13,
   "outputs": [],
   "source": [
    "import scipy.stats as stats\n",
    "\n",
    "\n",
    "class LogisticRegression2(LogisticRegression):\n",
    "    \"\"\"\n",
    "    Wrapper Class for Logistic Regression which has the usual sklearn instance\n",
    "    in an attribute self.model, and pvalues, z scores and estimated\n",
    "    errors for each coefficient in\n",
    "\n",
    "    self.z_scores\n",
    "    self.p_values\n",
    "    self.sigma_estimates\n",
    "\n",
    "    as well as the negative hessian of the log Likelihood (Fisher information)\n",
    "\n",
    "    self.F_ij\n",
    "    \"\"\"\n",
    "\n",
    "    def __init__(self,\n",
    "                 penalty: Any = 'l2',\n",
    "                 *,\n",
    "                 dual: Any = False,\n",
    "                 tol: Any = 1e-4,\n",
    "                 C: Any = 1.0,\n",
    "                 fit_intercept: Any = True,\n",
    "                 intercept_scaling: Any = 1,\n",
    "                 class_weight: Any = None,\n",
    "                 random_state: Any = None,\n",
    "                 solver: Any = 'lbfgs',\n",
    "                 max_iter: Any = 100,\n",
    "                 multi_class: Any = 'auto',\n",
    "                 verbose: Any = 0,\n",
    "                 warm_start: Any = False,\n",
    "                 n_jobs: Any = None,\n",
    "                 l1_ratio: Any = None) -> Optional[Any]:\n",
    "        super().__init__(penalty=penalty, dual=dual, tol=tol, C=C, fit_intercept=fit_intercept,\n",
    "                                                  intercept_scaling=intercept_scaling, class_weight=class_weight,\n",
    "                                                  random_state=random_state, solver=solver, max_iter=max_iter,\n",
    "                                                  multi_class=multi_class, verbose=verbose, warm_start=warm_start,\n",
    "                                                  n_jobs=n_jobs, l1_ratio=l1_ratio)\n",
    "\n",
    "    def fit(self, X, y, **kwargs):\n",
    "        super().fit(X, y)\n",
    "        #### Get p-values for the fitted model ####\n",
    "        denom = (2.0 * (1.0 + np.cosh(self.decision_function(X))))\n",
    "        denom = np.tile(denom, (X.shape[1], 1)).T\n",
    "        F_ij = np.dot((X / denom).T, X)  ## Fisher Information Matrix\n",
    "        #add micro_value\n",
    "        eps = 1e-6\n",
    "        F_ij += np.eye(F_ij.shape[0]) * eps\n",
    "\n",
    "        Cramer_Rao = np.linalg.inv(F_ij)  ## Inverse Information Matrix\n",
    "        sigma_estimates = np.sqrt(np.diagonal(Cramer_Rao))\n",
    "        z_scores = self.coef_[0] / sigma_estimates  # z-score for eaach model coefficient\n",
    "        p_values = [stats.norm.sf(abs(x)) * 2 for x in z_scores]  ### two tailed test for p-values\n",
    "\n",
    "        self.z_scores = z_scores\n",
    "        self.p_values = p_values\n",
    "        self.sigma_estimates = sigma_estimates\n",
    "        self.F_ij = F_ij\n",
    "        alpha = 0.05\n",
    "        q = stats.norm.ppf(1 - alpha / 2)\n",
    "        lower = self.coef_[0] - q * sigma_estimates\n",
    "        upper = self.coef_[0] + q * sigma_estimates\n",
    "        self.conf_int_lower = lower\n",
    "        self.conf_int_upper = upper\n",
    "    def summary(self):\n",
    "        return pd.DataFrame({'coef':self.coef_[0],'std err':self.sigma_estimates,'z':self.z_scores,\n",
    "              'P>|z|':self.p_values,'[0.025':self.conf_int_lower,'0.975]':self.conf_int_upper})\n"
   ],
   "metadata": {
    "collapsed": false,
    "pycharm": {
     "name": "#%%\n"
    }
   }
  },
  {
   "cell_type": "code",
   "execution_count": 14,
   "outputs": [],
   "source": [
    "\n",
    "model = LogisticRegression2(fit_intercept=False)\n",
    "model.fit(add_constant(x1), y1)\n",
    "#y_model=model.predict_proba(x2)[:,1]"
   ],
   "metadata": {
    "collapsed": false,
    "pycharm": {
     "name": "#%%\n"
    }
   }
  },
  {
   "cell_type": "code",
   "execution_count": 15,
   "outputs": [
    {
     "data": {
      "text/plain": "       coef   std err          z          P>|z|    [0.025    0.975]\n0  1.308445  0.043009  30.422262  2.789099e-203  1.224148  1.392742\n1 -1.040962  0.030680 -33.929184  2.473807e-252 -1.101095 -0.980830\n2  0.304628  0.025449  11.970005   5.102531e-33  0.254749  0.354508\n3 -1.100208  0.028530 -38.563860   0.000000e+00 -1.156125 -1.044291\n4 -0.336525  0.023528 -14.303061   2.093936e-46 -0.382640 -0.290411",
      "text/html": "<div>\n<style scoped>\n    .dataframe tbody tr th:only-of-type {\n        vertical-align: middle;\n    }\n\n    .dataframe tbody tr th {\n        vertical-align: top;\n    }\n\n    .dataframe thead th {\n        text-align: right;\n    }\n</style>\n<table border=\"1\" class=\"dataframe\">\n  <thead>\n    <tr style=\"text-align: right;\">\n      <th></th>\n      <th>coef</th>\n      <th>std err</th>\n      <th>z</th>\n      <th>P&gt;|z|</th>\n      <th>[0.025</th>\n      <th>0.975]</th>\n    </tr>\n  </thead>\n  <tbody>\n    <tr>\n      <th>0</th>\n      <td>1.308445</td>\n      <td>0.043009</td>\n      <td>30.422262</td>\n      <td>2.789099e-203</td>\n      <td>1.224148</td>\n      <td>1.392742</td>\n    </tr>\n    <tr>\n      <th>1</th>\n      <td>-1.040962</td>\n      <td>0.030680</td>\n      <td>-33.929184</td>\n      <td>2.473807e-252</td>\n      <td>-1.101095</td>\n      <td>-0.980830</td>\n    </tr>\n    <tr>\n      <th>2</th>\n      <td>0.304628</td>\n      <td>0.025449</td>\n      <td>11.970005</td>\n      <td>5.102531e-33</td>\n      <td>0.254749</td>\n      <td>0.354508</td>\n    </tr>\n    <tr>\n      <th>3</th>\n      <td>-1.100208</td>\n      <td>0.028530</td>\n      <td>-38.563860</td>\n      <td>0.000000e+00</td>\n      <td>-1.156125</td>\n      <td>-1.044291</td>\n    </tr>\n    <tr>\n      <th>4</th>\n      <td>-0.336525</td>\n      <td>0.023528</td>\n      <td>-14.303061</td>\n      <td>2.093936e-46</td>\n      <td>-0.382640</td>\n      <td>-0.290411</td>\n    </tr>\n  </tbody>\n</table>\n</div>"
     },
     "execution_count": 15,
     "metadata": {},
     "output_type": "execute_result"
    }
   ],
   "source": [
    "model.summary()"
   ],
   "metadata": {
    "collapsed": false,
    "pycharm": {
     "name": "#%%\n"
    }
   }
  },
  {
   "cell_type": "code",
   "execution_count": 16,
   "outputs": [
    {
     "data": {
      "text/plain": "<class 'statsmodels.iolib.summary.Summary'>\n\"\"\"\n                           Logit Regression Results                           \n==============================================================================\nDep. Variable:                      y   No. Observations:                 8000\nModel:                          Logit   Df Residuals:                     7995\nMethod:                           MLE   Df Model:                            4\nDate:                Mon, 14 Jun 2021   Pseudo R-squ.:                  0.2867\nTime:                        22:07:58   Log-Likelihood:                -3955.2\nconverged:                       True   LL-Null:                       -5544.8\nCovariance Type:            nonrobust   LLR p-value:                     0.000\n==============================================================================\n                 coef    std err          z      P>|z|      [0.025      0.975]\n------------------------------------------------------------------------------\nconst          1.3127      0.043     30.472      0.000       1.228       1.397\n0             -1.0436      0.031    -33.968      0.000      -1.104      -0.983\n1              0.3049      0.025     11.976      0.000       0.255       0.355\n2             -1.1028      0.029    -38.597      0.000      -1.159      -1.047\n3             -0.3372      0.024    -14.322      0.000      -0.383      -0.291\n==============================================================================\n\"\"\"",
      "text/html": "<table class=\"simpletable\">\n<caption>Logit Regression Results</caption>\n<tr>\n  <th>Dep. Variable:</th>           <td>y</td>        <th>  No. Observations:  </th>  <td>  8000</td> \n</tr>\n<tr>\n  <th>Model:</th>                 <td>Logit</td>      <th>  Df Residuals:      </th>  <td>  7995</td> \n</tr>\n<tr>\n  <th>Method:</th>                 <td>MLE</td>       <th>  Df Model:          </th>  <td>     4</td> \n</tr>\n<tr>\n  <th>Date:</th>            <td>Mon, 14 Jun 2021</td> <th>  Pseudo R-squ.:     </th>  <td>0.2867</td> \n</tr>\n<tr>\n  <th>Time:</th>                <td>22:07:58</td>     <th>  Log-Likelihood:    </th> <td> -3955.2</td>\n</tr>\n<tr>\n  <th>converged:</th>             <td>True</td>       <th>  LL-Null:           </th> <td> -5544.8</td>\n</tr>\n<tr>\n  <th>Covariance Type:</th>     <td>nonrobust</td>    <th>  LLR p-value:       </th>  <td> 0.000</td> \n</tr>\n</table>\n<table class=\"simpletable\">\n<tr>\n    <td></td>       <th>coef</th>     <th>std err</th>      <th>z</th>      <th>P>|z|</th>  <th>[0.025</th>    <th>0.975]</th>  \n</tr>\n<tr>\n  <th>const</th> <td>    1.3127</td> <td>    0.043</td> <td>   30.472</td> <td> 0.000</td> <td>    1.228</td> <td>    1.397</td>\n</tr>\n<tr>\n  <th>0</th>     <td>   -1.0436</td> <td>    0.031</td> <td>  -33.968</td> <td> 0.000</td> <td>   -1.104</td> <td>   -0.983</td>\n</tr>\n<tr>\n  <th>1</th>     <td>    0.3049</td> <td>    0.025</td> <td>   11.976</td> <td> 0.000</td> <td>    0.255</td> <td>    0.355</td>\n</tr>\n<tr>\n  <th>2</th>     <td>   -1.1028</td> <td>    0.029</td> <td>  -38.597</td> <td> 0.000</td> <td>   -1.159</td> <td>   -1.047</td>\n</tr>\n<tr>\n  <th>3</th>     <td>   -0.3372</td> <td>    0.024</td> <td>  -14.322</td> <td> 0.000</td> <td>   -0.383</td> <td>   -0.291</td>\n</tr>\n</table>"
     },
     "execution_count": 16,
     "metadata": {},
     "output_type": "execute_result"
    }
   ],
   "source": [
    "model2.summary()"
   ],
   "metadata": {
    "collapsed": false,
    "pycharm": {
     "name": "#%%\n"
    }
   }
  },
  {
   "cell_type": "code",
   "execution_count": 16,
   "outputs": [],
   "source": [],
   "metadata": {
    "collapsed": false,
    "pycharm": {
     "name": "#%%\n"
    }
   }
  }
 ],
 "metadata": {
  "kernelspec": {
   "display_name": "Python 3",
   "language": "python",
   "name": "python3"
  },
  "language_info": {
   "codemirror_mode": {
    "name": "ipython",
    "version": 2
   },
   "file_extension": ".py",
   "mimetype": "text/x-python",
   "name": "python",
   "nbconvert_exporter": "python",
   "pygments_lexer": "ipython2",
   "version": "2.7.6"
  }
 },
 "nbformat": 4,
 "nbformat_minor": 0
}